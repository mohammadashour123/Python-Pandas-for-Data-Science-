{
 "cells": [
  {
   "cell_type": "markdown",
   "id": "ec1e008a",
   "metadata": {},
   "source": [
    "## Python Pandas \n",
    "Pandas is defined as an open-source library that provides high-performance data manipulation in Python. This tutorial is designed for both beginners and professionals.\n",
    "\n",
    "It is used for data analysis in Python and developed by Wes McKinney in 2008. Our Tutorial provides all the basic and advanced concepts of Python Pandas, such as Numpy, Data operation and Time Series\n",
    "\n",
    "Pandas is defined as an open-source library that provides high-performance data manipulation in Python. The name of Pandas is derived from the word Panel Data, which means an Econometrics from Multidimensional data. It is used for data analysis in Python and developed by Wes McKinney in 2008.\n"
   ]
  },
  {
   "cell_type": "markdown",
   "id": "900f969f",
   "metadata": {},
   "source": [
    "Pandas is built on top of the Numpy package, means Numpy is required for operating the Pandas.\n",
    "\n"
   ]
  },
  {
   "cell_type": "markdown",
   "id": "37f958a3",
   "metadata": {},
   "source": [
    "### Python Pandas Data Structure\n",
    "The Pandas provides two data structures for processing the data, i.e., Series and DataFrame, which are discussed below:\n",
    "\n",
    "1) Series\n",
    "It is defined as a one-dimensional array that is capable of storing various data types. The row labels of series are called the index. We can easily convert the list, tuple, and dictionary into series using \"series' method. A Series cannot contain multiple columns. It has one parameter:\n",
    "\n",
    "Data: It can be any list, dictionary, or scalar value."
   ]
  },
  {
   "cell_type": "code",
   "execution_count": null,
   "id": "76745711",
   "metadata": {},
   "outputs": [],
   "source": []
  },
  {
   "cell_type": "markdown",
   "id": "fc8a049b",
   "metadata": {},
   "source": [
    "### Python Pandas DataFrame\n",
    "It is a widely used data structure of pandas and works with a two-dimensional array with labeled axes (rows and columns). DataFrame is defined as a standard way to store data and has two different indexes, i.e., row index and column index. It consists of the following properties:\n",
    "\n",
    "The columns can be heterogeneous types like int, bool, and so on.\n",
    "It can be seen as a dictionary of Series structure where both the rows and columns are indexed. It is denoted as \"columns\" in case of columns and \"index\" in case of rows."
   ]
  },
  {
   "attachments": {
    "download%20%284%29.png": {
     "image/png": "[encoded data removed]"
    }
   },
   "cell_type": "markdown",
   "id": "e149510a",
   "metadata": {},
   "source": [
    "![download%20%284%29.png](attachment:download%20%284%29.png)"
   ]
  },
  {
   "cell_type": "code",
   "execution_count": null,
   "id": "525b5cfd",
   "metadata": {},
   "outputs": [],
   "source": []
  }
 ],
 "metadata": {
  "kernelspec": {
   "display_name": "Python 3 (ipykernel)",
   "language": "python",
   "name": "python3"
  },
  "language_info": {
   "codemirror_mode": {
    "name": "ipython",
    "version": 3
   },
   "file_extension": ".py",
   "mimetype": "text/x-python",
   "name": "python",
   "nbconvert_exporter": "python",
   "pygments_lexer": "ipython3",
   "version": "3.9.13"
  }
 },
 "nbformat": 4,
 "nbformat_minor": 5
}
