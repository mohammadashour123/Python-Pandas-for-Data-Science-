{
 "cells": [
  {
   "cell_type": "code",
   "execution_count": 9,
   "id": "5ee818bc",
   "metadata": {},
   "outputs": [],
   "source": [
    "import numpy as np \n",
    "import pandas as pd "
   ]
  },
  {
   "cell_type": "code",
   "execution_count": 2,
   "id": "3dcd6578",
   "metadata": {},
   "outputs": [],
   "source": [
    "my_Data = [\"mohammad\" , 20 , \"CS\" , \"Egypt\"]"
   ]
  },
  {
   "cell_type": "code",
   "execution_count": 3,
   "id": "26494074",
   "metadata": {},
   "outputs": [],
   "source": [
    "my_series = pd.Series(my_Data)"
   ]
  },
  {
   "cell_type": "code",
   "execution_count": 4,
   "id": "6c408d4e",
   "metadata": {},
   "outputs": [
    {
     "data": {
      "text/plain": [
       "0    mohammad\n",
       "1          20\n",
       "2          CS\n",
       "3       Egypt\n",
       "dtype: object"
      ]
     },
     "execution_count": 4,
     "metadata": {},
     "output_type": "execute_result"
    }
   ],
   "source": [
    "my_series"
   ]
  },
  {
   "cell_type": "code",
   "execution_count": 5,
   "id": "0c925c83",
   "metadata": {},
   "outputs": [],
   "source": [
    "my_Data_as_dict = {\"name\" : \"mohammad\" , \"age\" : 20 , \"Dept\" : \"CS\" , \"Country\" : \"Egypt\"}"
   ]
  },
  {
   "cell_type": "code",
   "execution_count": 6,
   "id": "59cbf59a",
   "metadata": {},
   "outputs": [],
   "source": [
    "my_series_2 = pd.Series(my_Data_as_dict)"
   ]
  },
  {
   "cell_type": "code",
   "execution_count": 7,
   "id": "955eadc7",
   "metadata": {},
   "outputs": [
    {
     "data": {
      "text/plain": [
       "name       mohammad\n",
       "age              20\n",
       "Dept             CS\n",
       "Country       Egypt\n",
       "dtype: object"
      ]
     },
     "execution_count": 7,
     "metadata": {},
     "output_type": "execute_result"
    }
   ],
   "source": [
    "my_series_2"
   ]
  },
  {
   "cell_type": "code",
   "execution_count": 10,
   "id": "0e3f0b53",
   "metadata": {},
   "outputs": [],
   "source": [
    "my_series_3 = pd.Series(np.array([10,20,30,40,50,60,70,80,90,100]))"
   ]
  },
  {
   "cell_type": "code",
   "execution_count": 11,
   "id": "b1e2dd51",
   "metadata": {},
   "outputs": [
    {
     "data": {
      "text/plain": [
       "0     10\n",
       "1     20\n",
       "2     30\n",
       "3     40\n",
       "4     50\n",
       "5     60\n",
       "6     70\n",
       "7     80\n",
       "8     90\n",
       "9    100\n",
       "dtype: int32"
      ]
     },
     "execution_count": 11,
     "metadata": {},
     "output_type": "execute_result"
    }
   ],
   "source": [
    "my_series_3"
   ]
  },
  {
   "cell_type": "code",
   "execution_count": 19,
   "id": "4dadfc7a",
   "metadata": {},
   "outputs": [],
   "source": [
    "my_series_4 = pd.Series(np.array([10,20,30,40,50]) , index= [1,2,3,4,5])"
   ]
  },
  {
   "cell_type": "code",
   "execution_count": 20,
   "id": "6ae19786",
   "metadata": {},
   "outputs": [
    {
     "data": {
      "text/plain": [
       "1    10\n",
       "2    20\n",
       "3    30\n",
       "4    40\n",
       "5    50\n",
       "dtype: int32"
      ]
     },
     "execution_count": 20,
     "metadata": {},
     "output_type": "execute_result"
    }
   ],
   "source": [
    "my_series_4"
   ]
  },
  {
   "cell_type": "code",
   "execution_count": null,
   "id": "a5cf6e81",
   "metadata": {},
   "outputs": [],
   "source": []
  },
  {
   "cell_type": "code",
   "execution_count": 21,
   "id": "ceacca65",
   "metadata": {},
   "outputs": [],
   "source": [
    "my_series_4 = pd.Series(np.array([10,20,30,40,50]) , index= [\"a\",\"b\",\"c\",\"d\" ,\"e\"])"
   ]
  },
  {
   "cell_type": "code",
   "execution_count": 22,
   "id": "461ed05c",
   "metadata": {},
   "outputs": [
    {
     "data": {
      "text/plain": [
       "a    10\n",
       "b    20\n",
       "c    30\n",
       "d    40\n",
       "e    50\n",
       "dtype: int32"
      ]
     },
     "execution_count": 22,
     "metadata": {},
     "output_type": "execute_result"
    }
   ],
   "source": [
    "my_series_4"
   ]
  },
  {
   "cell_type": "code",
   "execution_count": 23,
   "id": "a751d155",
   "metadata": {},
   "outputs": [],
   "source": [
    "my_series_5 = pd.Series(np.array([10,20,30,40,50]) , index= [\"first\",\"sec\",\"third\",\"fourth\" ,\"fifth\"])"
   ]
  },
  {
   "cell_type": "code",
   "execution_count": 24,
   "id": "e5373782",
   "metadata": {},
   "outputs": [
    {
     "data": {
      "text/plain": [
       "first     10\n",
       "sec       20\n",
       "third     30\n",
       "fourth    40\n",
       "fifth     50\n",
       "dtype: int32"
      ]
     },
     "execution_count": 24,
     "metadata": {},
     "output_type": "execute_result"
    }
   ],
   "source": [
    "my_series_5"
   ]
  },
  {
   "cell_type": "code",
   "execution_count": 25,
   "id": "9269d5fc",
   "metadata": {},
   "outputs": [
    {
     "data": {
      "text/plain": [
       "0    mohammad\n",
       "1          20\n",
       "2          CS\n",
       "3       Egypt\n",
       "dtype: object"
      ]
     },
     "execution_count": 25,
     "metadata": {},
     "output_type": "execute_result"
    }
   ],
   "source": [
    "my_series"
   ]
  },
  {
   "cell_type": "code",
   "execution_count": 26,
   "id": "52742cc0",
   "metadata": {},
   "outputs": [
    {
     "data": {
      "text/plain": [
       "(4,)"
      ]
     },
     "execution_count": 26,
     "metadata": {},
     "output_type": "execute_result"
    }
   ],
   "source": [
    "my_series.shape"
   ]
  },
  {
   "cell_type": "code",
   "execution_count": 29,
   "id": "e856f9dd",
   "metadata": {},
   "outputs": [
    {
     "data": {
      "text/plain": [
       "RangeIndex(start=0, stop=4, step=1)"
      ]
     },
     "execution_count": 29,
     "metadata": {},
     "output_type": "execute_result"
    }
   ],
   "source": [
    "my_series.index"
   ]
  },
  {
   "cell_type": "code",
   "execution_count": 30,
   "id": "c3294b1b",
   "metadata": {},
   "outputs": [
    {
     "data": {
      "text/plain": [
       "array(['mohammad', 20, 'CS', 'Egypt'], dtype=object)"
      ]
     },
     "execution_count": 30,
     "metadata": {},
     "output_type": "execute_result"
    }
   ],
   "source": [
    "my_series.values"
   ]
  },
  {
   "cell_type": "code",
   "execution_count": 31,
   "id": "f4bc7439",
   "metadata": {},
   "outputs": [
    {
     "data": {
      "text/plain": [
       "0     10\n",
       "1     20\n",
       "2     30\n",
       "3     40\n",
       "4     50\n",
       "5     60\n",
       "6     70\n",
       "7     80\n",
       "8     90\n",
       "9    100\n",
       "dtype: int32"
      ]
     },
     "execution_count": 31,
     "metadata": {},
     "output_type": "execute_result"
    }
   ],
   "source": [
    "my_series_3"
   ]
  },
  {
   "cell_type": "code",
   "execution_count": 33,
   "id": "4832c3e8",
   "metadata": {},
   "outputs": [
    {
     "data": {
      "text/plain": [
       "10"
      ]
     },
     "execution_count": 33,
     "metadata": {},
     "output_type": "execute_result"
    }
   ],
   "source": [
    "my_series_3.min()"
   ]
  },
  {
   "cell_type": "code",
   "execution_count": 34,
   "id": "984533df",
   "metadata": {},
   "outputs": [
    {
     "data": {
      "text/plain": [
       "100"
      ]
     },
     "execution_count": 34,
     "metadata": {},
     "output_type": "execute_result"
    }
   ],
   "source": [
    "my_series_3.max()"
   ]
  },
  {
   "cell_type": "code",
   "execution_count": 35,
   "id": "4612393e",
   "metadata": {},
   "outputs": [
    {
     "data": {
      "text/plain": [
       "30.276503540974915"
      ]
     },
     "execution_count": 35,
     "metadata": {},
     "output_type": "execute_result"
    }
   ],
   "source": [
    "my_series_3.std()"
   ]
  },
  {
   "cell_type": "code",
   "execution_count": 36,
   "id": "4def5bb6",
   "metadata": {},
   "outputs": [
    {
     "data": {
      "text/plain": [
       "55.0"
      ]
     },
     "execution_count": 36,
     "metadata": {},
     "output_type": "execute_result"
    }
   ],
   "source": [
    "my_series_3.mean()"
   ]
  },
  {
   "cell_type": "code",
   "execution_count": 37,
   "id": "ae3939a9",
   "metadata": {},
   "outputs": [
    {
     "data": {
      "text/plain": [
       "55.0"
      ]
     },
     "execution_count": 37,
     "metadata": {},
     "output_type": "execute_result"
    }
   ],
   "source": [
    "my_series_3.median()"
   ]
  },
  {
   "cell_type": "code",
   "execution_count": 40,
   "id": "2e7d9c66",
   "metadata": {},
   "outputs": [
    {
     "data": {
      "text/plain": [
       "10"
      ]
     },
     "execution_count": 40,
     "metadata": {},
     "output_type": "execute_result"
    }
   ],
   "source": [
    "my_series_3.count()"
   ]
  },
  {
   "cell_type": "code",
   "execution_count": 47,
   "id": "a106eed4",
   "metadata": {},
   "outputs": [
    {
     "data": {
      "text/plain": [
       "array(['mohammad', 20, 'CS', 'Egypt'], dtype=object)"
      ]
     },
     "execution_count": 47,
     "metadata": {},
     "output_type": "execute_result"
    }
   ],
   "source": [
    "my_series_2.unique()"
   ]
  },
  {
   "cell_type": "code",
   "execution_count": 48,
   "id": "e7be004c",
   "metadata": {},
   "outputs": [
    {
     "data": {
      "text/plain": [
       "a    10\n",
       "b    20\n",
       "c    30\n",
       "d    40\n",
       "e    50\n",
       "dtype: int32"
      ]
     },
     "execution_count": 48,
     "metadata": {},
     "output_type": "execute_result"
    }
   ],
   "source": [
    "my_series_4"
   ]
  },
  {
   "cell_type": "code",
   "execution_count": 49,
   "id": "316c86ea",
   "metadata": {},
   "outputs": [
    {
     "data": {
      "text/plain": [
       "array([10, 20, 30, 40, 50])"
      ]
     },
     "execution_count": 49,
     "metadata": {},
     "output_type": "execute_result"
    }
   ],
   "source": [
    "my_series_4.unique()"
   ]
  },
  {
   "cell_type": "code",
   "execution_count": 50,
   "id": "3e0eb47f",
   "metadata": {},
   "outputs": [
    {
     "data": {
      "text/plain": [
       "5"
      ]
     },
     "execution_count": 50,
     "metadata": {},
     "output_type": "execute_result"
    }
   ],
   "source": [
    "my_series_4.nunique()"
   ]
  },
  {
   "cell_type": "code",
   "execution_count": null,
   "id": "46106720",
   "metadata": {},
   "outputs": [],
   "source": []
  }
 ],
 "metadata": {
  "kernelspec": {
   "display_name": "Python 3 (ipykernel)",
   "language": "python",
   "name": "python3"
  },
  "language_info": {
   "codemirror_mode": {
    "name": "ipython",
    "version": 3
   },
   "file_extension": ".py",
   "mimetype": "text/x-python",
   "name": "python",
   "nbconvert_exporter": "python",
   "pygments_lexer": "ipython3",
   "version": "3.9.12"
  }
 },
 "nbformat": 4,
 "nbformat_minor": 5
}
